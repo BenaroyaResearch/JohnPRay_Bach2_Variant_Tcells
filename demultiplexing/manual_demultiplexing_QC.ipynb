{
 "cells": [
  {
   "cell_type": "code",
   "execution_count": null,
   "source": [
    "import sys\n",
    "import os\n",
    "import numpy as np\n",
    "from itertools import compress"
   ],
   "outputs": [],
   "metadata": {}
  },
  {
   "cell_type": "code",
   "execution_count": null,
   "source": [
    "directories = [\"lib64237\", \"lib64238\", \"lib64239\", \"lib64240\", \"undetermined\"]\n",
    "pathToOriginals = \"./\""
   ],
   "outputs": [],
   "metadata": {}
  },
  {
   "cell_type": "code",
   "execution_count": null,
   "source": [
    "filelist = {}\n",
    "for directory in directories:\n",
    "    path = os.path.join(\"./\", directory)\n",
    "    filelist_  = []\n",
    "    for file in os.listdir(path):\n",
    "        if file.endswith(\".fastq\"):\n",
    "            filelist_.append(os.path.join(path, file)) \n",
    "    filelist[directory] = filelist_"
   ],
   "outputs": [],
   "metadata": {}
  },
  {
   "cell_type": "code",
   "execution_count": null,
   "source": [
    "lineCounts = {}\n",
    "print(\"Counting lines\")\n",
    "for iLibrary in filelist.keys():\n",
    "    print(iLibrary + \":\")\n",
    "    lineCounts_ = []\n",
    "    for iFile in filelist[iLibrary]:\n",
    "        i = 0\n",
    "        with open(iFile, 'r') as fh:\n",
    "            for line in fh:\n",
    "                i += 1\n",
    "        lineCounts_.append(i)\n",
    "        print(\"   \" + os.path.basename(iFile) +  \": \" + str(i) + \" lines\")\n",
    "\n",
    "    lineCounts[iLibrary] = lineCounts_"
   ],
   "outputs": [],
   "metadata": {}
  },
  {
   "cell_type": "code",
   "execution_count": null,
   "source": [
    "totalLines = 0\n",
    "okay = []\n",
    "\n",
    "for iLibrary in lineCounts.keys():\n",
    "    lines = np.unique(lineCounts[iLibrary])\n",
    "    okay.append(len(lines) == len(filelist[iLibrary])/4)\n",
    "    totalLines = totalLines + sum(lines)\n",
    "\n",
    "if not all(okay):\n",
    "    notOKs = np.invert(okay)\n",
    "    liblist = \", \".join(list(compress(directories, notOKs)))\n",
    "    print(\"There appears to be an issue with libraries: \" + liblist)\n",
    "else:\n",
    "    print(\"Line counts across files within individual libraries checks out\")"
   ],
   "outputs": [],
   "metadata": {}
  },
  {
   "cell_type": "code",
   "execution_count": null,
   "source": [
    "originals = []\n",
    "for file in os.listdir(pathToOriginals):\n",
    "    if file.endswith(\".fastq\"):\n",
    "            originals.append(os.path.join(pathToOriginals, file)) \n",
    "\n"
   ],
   "outputs": [],
   "metadata": {}
  },
  {
   "cell_type": "code",
   "execution_count": null,
   "source": [
    "lineCountsOriginal = []\n",
    "print(\"Counting lines in original files\")\n",
    "for iFile in originals:\n",
    "    i = 0\n",
    "    with open(iFile, 'r') as fh:\n",
    "        for line in fh:\n",
    "            i += 1\n",
    "    lineCountsOriginal.append(i)\n",
    "    print(\"   \" + os.path.basename(iFile) +  \": \" + str(i) + \" lines\")"
   ],
   "outputs": [],
   "metadata": {}
  },
  {
   "cell_type": "code",
   "execution_count": null,
   "source": [
    "totalCountsOriginal = sum(np.unique(lineCountsOriginal))\n",
    "print(totalCountsOriginal)"
   ],
   "outputs": [],
   "metadata": {}
  },
  {
   "cell_type": "code",
   "execution_count": null,
   "source": [
    "totalCounts = 0\n",
    "\n",
    "for iCounts in lineCounts:\n",
    "    totalCounts = totalCounts + sum(np.unique(lineCounts[iCounts]))\n",
    "    \n",
    "print(totalCountsOriginal)"
   ],
   "outputs": [],
   "metadata": {}
  }
 ],
 "metadata": {
  "orig_nbformat": 4,
  "language_info": {
   "name": "python",
   "version": "3.9.7"
  },
  "kernelspec": {
   "name": "python3",
   "display_name": "Python 3.9.7 64-bit ('fastq_reindexing': conda)"
  },
  "interpreter": {
   "hash": "89b680c53556ee490d83bc869cdeda768d8a2ec3ed95b7166427d7649bb740d1"
  }
 },
 "nbformat": 4,
 "nbformat_minor": 2
}